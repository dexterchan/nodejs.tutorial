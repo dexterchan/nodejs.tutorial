{
 "cells": [
  {
   "cell_type": "code",
   "execution_count": 66,
   "metadata": {
    "collapsed": true
   },
   "outputs": [],
   "source": [
    "import numpy as np"
   ]
  },
  {
   "cell_type": "code",
   "execution_count": 67,
   "metadata": {
    "collapsed": true
   },
   "outputs": [],
   "source": [
    "import pandas as pd"
   ]
  },
  {
   "cell_type": "code",
   "execution_count": 68,
   "metadata": {
    "collapsed": true
   },
   "outputs": [],
   "source": [
    "from google.datalab import Context"
   ]
  },
  {
   "cell_type": "code",
   "execution_count": 69,
   "metadata": {
    "collapsed": true
   },
   "outputs": [],
   "source": [
    "import google.datalab.storage as storage"
   ]
  },
  {
   "cell_type": "code",
   "execution_count": 70,
   "metadata": {
    "collapsed": false
   },
   "outputs": [
    {
     "name": "stdout",
     "output_type": "stream",
     "text": [
      "The current project is fo-ods\n"
     ]
    }
   ],
   "source": [
    "context = Context.default()\n",
    "print('The current project is %s' % context.project_id)"
   ]
  },
  {
   "cell_type": "code",
   "execution_count": 71,
   "metadata": {
    "collapsed": false
   },
   "outputs": [],
   "source": [
    "path = \"20170819/8881116685881001367/\"\n",
    "bucketName=\"foodstest_service\""
   ]
  },
  {
   "cell_type": "code",
   "execution_count": 72,
   "metadata": {
    "collapsed": false
   },
   "outputs": [
    {
     "name": "stdout",
     "output_type": "stream",
     "text": [
      "run\n"
     ]
    }
   ],
   "source": [
    "print(\"run\")"
   ]
  },
  {
   "cell_type": "code",
   "execution_count": 79,
   "metadata": {
    "collapsed": false
   },
   "outputs": [
    {
     "name": "stdout",
     "output_type": "stream",
     "text": [
      "20170819/8881116685881001367/spannerservicelayer.CREATE.0.json\n",
      "20170819/8881116685881001367/spannerservicelayer.SAVE.0.json\n"
     ]
    }
   ],
   "source": [
    "shared_bucket = storage.Bucket(bucketName)\n",
    "for obj in shared_bucket.objects(prefix = path, delimiter = '/'):\n",
    "    print(obj.key)"
   ]
  },
  {
   "cell_type": "code",
   "execution_count": 118,
   "metadata": {
    "collapsed": false
   },
   "outputs": [],
   "source": [
    "recordSet=None\n",
    "for obj in shared_bucket.objects(prefix = path, delimiter = '/'):\n",
    "  filename=\"gs://\"+bucketName+\"/\"+obj.key\n",
    "  %%gcs read --object $filename --variable text\n",
    "  dd = json.loads(text.decode(\"utf-8\"))\n",
    "  k=json_normalize(dd)\n",
    "  k.set_index(\"tradeid\")\n",
    "  if(recordSet is None):\n",
    "    recordSet = k\n",
    "  else:\n",
    "    recordSet=pd.concat([recordSet,k],ignore_index=True)"
   ]
  },
  {
   "cell_type": "code",
   "execution_count": 119,
   "metadata": {
    "collapsed": false
   },
   "outputs": [
    {
     "data": {
      "text/html": [
       "<div>\n",
       "<table border=\"1\" class=\"dataframe\">\n",
       "  <thead>\n",
       "    <tr style=\"text-align: right;\">\n",
       "      <th></th>\n",
       "      <th>CRUDprocessTime</th>\n",
       "      <th>DB_EndTime</th>\n",
       "      <th>DB_StartTime</th>\n",
       "      <th>LC_CRUDEndTime</th>\n",
       "      <th>LC_CRUDStartTime</th>\n",
       "      <th>LC_arrivalTime</th>\n",
       "      <th>ULT_requestTimestamp</th>\n",
       "      <th>action</th>\n",
       "      <th>numOfTrades</th>\n",
       "      <th>osTradeid</th>\n",
       "      <th>pubsubtravelTime</th>\n",
       "      <th>serialNumber</th>\n",
       "      <th>storageTime</th>\n",
       "      <th>subnumber</th>\n",
       "      <th>tradeid</th>\n",
       "    </tr>\n",
       "  </thead>\n",
       "  <tbody>\n",
       "    <tr>\n",
       "      <th>0</th>\n",
       "      <td>279</td>\n",
       "      <td>52000</td>\n",
       "      <td>963000</td>\n",
       "      <td>1503160383055</td>\n",
       "      <td>1503160382776</td>\n",
       "      <td>1503160382760</td>\n",
       "      <td>1503160381033</td>\n",
       "      <td>CREATE</td>\n",
       "      <td>1</td>\n",
       "      <td>4100830545001139156</td>\n",
       "      <td>1727</td>\n",
       "      <td>8881116685881001367</td>\n",
       "      <td>-911000</td>\n",
       "      <td>0</td>\n",
       "      <td>1800763226654720006</td>\n",
       "    </tr>\n",
       "    <tr>\n",
       "      <th>1</th>\n",
       "      <td>135</td>\n",
       "      <td>227000</td>\n",
       "      <td>138000</td>\n",
       "      <td>1503160391228</td>\n",
       "      <td>1503160391093</td>\n",
       "      <td>1503160383861</td>\n",
       "      <td>1503160381033</td>\n",
       "      <td>SAVE</td>\n",
       "      <td>1</td>\n",
       "      <td>4100830545001139156</td>\n",
       "      <td>2828</td>\n",
       "      <td>8881116685881001367</td>\n",
       "      <td>89000</td>\n",
       "      <td>0</td>\n",
       "      <td>1800763226654720006</td>\n",
       "    </tr>\n",
       "  </tbody>\n",
       "</table>\n",
       "</div>"
      ],
      "text/plain": [
       "   CRUDprocessTime  DB_EndTime  DB_StartTime  LC_CRUDEndTime  \\\n",
       "0              279       52000        963000   1503160383055   \n",
       "1              135      227000        138000   1503160391228   \n",
       "\n",
       "   LC_CRUDStartTime  LC_arrivalTime  ULT_requestTimestamp  action  \\\n",
       "0     1503160382776   1503160382760         1503160381033  CREATE   \n",
       "1     1503160391093   1503160383861         1503160381033    SAVE   \n",
       "\n",
       "   numOfTrades            osTradeid  pubsubtravelTime         serialNumber  \\\n",
       "0            1  4100830545001139156              1727  8881116685881001367   \n",
       "1            1  4100830545001139156              2828  8881116685881001367   \n",
       "\n",
       "   storageTime  subnumber              tradeid  \n",
       "0      -911000          0  1800763226654720006  \n",
       "1        89000          0  1800763226654720006  "
      ]
     },
     "execution_count": 119,
     "metadata": {},
     "output_type": "execute_result"
    }
   ],
   "source": [
    "recordSet\n"
   ]
  },
  {
   "cell_type": "code",
   "execution_count": 123,
   "metadata": {
    "collapsed": false
   },
   "outputs": [
    {
     "ename": "NameError",
     "evalue": "name 'key' is not defined",
     "output_type": "error",
     "traceback": [
      "\u001b[0;31m---------------------------------------------------------------------------\u001b[0m",
      "\u001b[0;31mNameError\u001b[0m                                 Traceback (most recent call last)",
      "\u001b[0;32m<ipython-input-123-e486039b4b65>\u001b[0m in \u001b[0;36m<module>\u001b[0;34m()\u001b[0m\n\u001b[0;32m----> 1\u001b[0;31m \u001b[0mrecordSet\u001b[0m\u001b[0;34m[\u001b[0m\u001b[0mkey\u001b[0m\u001b[0;34m]\u001b[0m\u001b[0;34m\u001b[0m\u001b[0m\n\u001b[0m",
      "\u001b[0;31mNameError\u001b[0m: name 'key' is not defined"
     ]
    }
   ],
   "source": [
    "recordSet[key]"
   ]
  },
  {
   "cell_type": "code",
   "execution_count": null,
   "metadata": {
    "collapsed": true
   },
   "outputs": [],
   "source": []
  }
 ],
 "metadata": {
  "kernelspec": {
   "display_name": "Python 3",
   "language": "python",
   "name": "python3"
  },
  "language_info": {
   "codemirror_mode": {
    "name": "ipython",
    "version": 3
   },
   "file_extension": ".py",
   "mimetype": "text/x-python",
   "name": "python",
   "nbconvert_exporter": "python",
   "pygments_lexer": "ipython3",
   "version": "3.5.2"
  }
 },
 "nbformat": 4,
 "nbformat_minor": 2
}
